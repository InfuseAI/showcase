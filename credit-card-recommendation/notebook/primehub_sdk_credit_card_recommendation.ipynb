{
 "cells": [
  {
   "cell_type": "code",
   "execution_count": null,
   "id": "d4c8a810",
   "metadata": {},
   "outputs": [],
   "source": [
    "# Install PrimeHub SDK.\n",
    "!pip install primehub-python-sdk==0.3.5"
   ]
  },
  {
   "cell_type": "code",
   "execution_count": null,
   "id": "fdd63072",
   "metadata": {},
   "outputs": [],
   "source": [
    "# Please filled in the PrimeHub cluster.\n",
    "PRIMEHUB_CLUSTER = <primehub-cluster-url>"
   ]
  },
  {
   "cell_type": "code",
   "execution_count": null,
   "id": "77a1fa47",
   "metadata": {},
   "outputs": [],
   "source": [
    "# Please filled in the kaggle config.\n",
    "KAGGLE_CONFIG = <kaggle-config-url>"
   ]
  },
  {
   "cell_type": "code",
   "execution_count": null,
   "id": "4940ea7d",
   "metadata": {},
   "outputs": [],
   "source": [
    "# Setting the primehub sdk config.\n",
    "from primehub import PrimeHub, PrimeHubConfig\n",
    "ph = PrimeHub(PrimeHubConfig())"
   ]
  },
  {
   "cell_type": "code",
   "execution_count": null,
   "id": "b4361871",
   "metadata": {},
   "outputs": [],
   "source": [
    "# Login config setting\n",
    "import os\n",
    "if not os.path.exists(\"/root/.primehub/config.json\"):\n",
    "    ph.config.generate(PRIMEHUB_CLUSTER)"
   ]
  },
  {
   "cell_type": "code",
   "execution_count": null,
   "id": "00a4608c",
   "metadata": {},
   "outputs": [],
   "source": [
    "# Get config json file information.\n",
    "!cat /root/.primehub/config.json"
   ]
  },
  {
   "cell_type": "code",
   "execution_count": null,
   "id": "69a97631",
   "metadata": {},
   "outputs": [],
   "source": [
    "# Setting the primehub sdk config.\n",
    "ph = PrimeHub(PrimeHubConfig())"
   ]
  },
  {
   "cell_type": "code",
   "execution_count": null,
   "id": "db39c554",
   "metadata": {},
   "outputs": [],
   "source": [
    "# Check the SDK setup is ready.\n",
    "if ph.is_ready():\n",
    "    print(\"PrimeHub Python SDK setup successfully\")\n",
    "    print(\"Current Group:\", ph.primehub_config.current_group)\n",
    "else:\n",
    "    print(\"PrimeHub Python SDK couldn't get the group information, please check the configuration.\")"
   ]
  },
  {
   "cell_type": "code",
   "execution_count": null,
   "id": "14392ecc",
   "metadata": {},
   "outputs": [],
   "source": [
    "primehub_job_config = {\n",
    "    \"instanceType\": \"cpu-1\",\n",
    "    \"image\": \"tf-2\",\n",
    "    \"displayName\": \"credit-card-model-training\",\n",
    "    \"command\": \"\"\"git clone https://github.com/InfuseAI/showcase.git\n",
    "\n",
    "pip install kaggle\n",
    "export KAGGLE_USERNAME={}\n",
    "export KAGGLE_KEY={}\n",
    "\n",
    "cd ~/credit-card-recommendation/data/original\n",
    "kaggle datasets download -d sajidhussain3/jobathon-may-2021-credit-card-lead-prediction\n",
    "unzip jobathon-may-2021-credit-card-lead-prediction.zip\n",
    "\n",
    "cd ~/credit-card-recommendation/\n",
    "pip install -r requirements.txt\n",
    "python main.py\n",
    "\"\"\".format(KAGGLE_CONFIG['username'], KAGGLE_CONFIG['key'])\n",
    "}"
   ]
  },
  {
   "cell_type": "code",
   "execution_count": null,
   "id": "6226df8b",
   "metadata": {},
   "outputs": [],
   "source": [
    "# Submit a job to train model.\n",
    "short_job = ph.jobs.submit(primehub_job_config)\n",
    "print(short_job)\n",
    "\n",
    "# Wait the job to be done\n",
    "print('[ Waiting ]')\n",
    "ph.jobs.wait(short_job['id'])\n",
    "print('[ Job Done ]')\n",
    "\n",
    "# Get logs\n",
    "logs = ph.jobs.logs(short_job['id'])\n",
    "print('[ Job Logs ]')\n",
    "for l in logs:\n",
    "    print(l)"
   ]
  },
  {
   "cell_type": "code",
   "execution_count": null,
   "id": "7cc6d298",
   "metadata": {},
   "outputs": [],
   "source": [
    "# List all versions of a model\n",
    "model_information = []\n",
    "model_versions = ph.models.list_versions('credit-card-recommendation')\n",
    "for version in model_versions:\n",
    "    model_information.append(version)"
   ]
  },
  {
   "cell_type": "code",
   "execution_count": null,
   "id": "79063601",
   "metadata": {},
   "outputs": [],
   "source": [
    "from primehub.utils import ResourceNotFoundException\n",
    "\n",
    "# Create a deployment\n",
    "deployment_id=f\"credit-card-recommendation\" \n",
    "config = {\n",
    "    \"id\": deployment_id,\n",
    "    \"name\": f\"Credit card recommendation\",\n",
    "    \"modelImage\": \"infuseai/sklearn-prepackaged:v0.1.0\",\n",
    "    \"modelURI\": \"models:/credit-card-recommendation/{}\".format(model_information[-1]['version']),\n",
    "    \"instanceType\": \"cpu-1\",\n",
    "    \"replicas\": 1\n",
    "}\n",
    "\n",
    "# Delete a deployment\n",
    "try:\n",
    "    ph.deployments.delete(deployment_id)\n",
    "    print(\"Finish delete model deployment\")\n",
    "except ResourceNotFoundException as e:\n",
    "    print(\"Model deployment resource not found.\")\n",
    "\n",
    "# Create a deployment\n",
    "deployment = ph.deployments.create(config)\n",
    "print(f\"\"\"\n",
    "Deployment Id: {deployment_id} \n",
    "Deployment Page: {PRIMEHUB_CLUSTER}/console/g/phusers/deployments/{deployment_id}\n",
    "\"\"\")\n",
    "\n",
    "# Wait for the deployment ready\n",
    "print('[ Waiting ]')\n",
    "ph.deployments.wait(deployment['id'])\n",
    "print('[ Deployment Ready ]')\n",
    "deployment = ph.deployments.get(deployment['id'])"
   ]
  },
  {
   "cell_type": "code",
   "execution_count": null,
   "id": "ca6cb780",
   "metadata": {},
   "outputs": [],
   "source": [
    "# prediction_columns = ['Gender', 'Age', 'Region_Code', 'Vintage', 'Avg_Account_Balance',\n",
    "#       'Is_Active', 'Occupation_0', 'Occupation_1', 'Occupation_2',\n",
    "#       'Occupation_3', 'Channel_Code_0', 'Channel_Code_1', 'Channel_Code_2',\n",
    "#       'Channel_Code_3', 'Credit_Product_0', 'Credit_Product_1',\n",
    "#       'Credit_Product_2']"
   ]
  },
  {
   "cell_type": "code",
   "execution_count": null,
   "id": "923cd164",
   "metadata": {},
   "outputs": [],
   "source": [
    "# Use model server to predict the test data\n",
    "import json\n",
    "import requests\n",
    "\n",
    "url = deployment['endpoint']\n",
    "data = {\n",
    "    \"data\": {\n",
    "        \"ndarray\": [[ 0, 2.57229854, 1, 0.12489877, -1.18575425, 0, 0, 1, 0, 0, 0, 1, 0, 0, 0, 0, 1]]\n",
    "    }\n",
    "}\n",
    "headers = {'Content-type': 'application/json'}\n",
    "\n",
    "result = requests.post(url, data=json.dumps(data), headers=headers)\n",
    "if result.status_code != 200:\n",
    "  print(f\"{result.status_code}: {result.reason}\")\n",
    "\n",
    "predict_result = json.loads(result.content.decode())\n",
    "\n",
    "print(predict_result)"
   ]
  }
 ],
 "metadata": {
  "kernelspec": {
   "display_name": "Python 3",
   "language": "python",
   "name": "python3"
  },
  "language_info": {
   "codemirror_mode": {
    "name": "ipython",
    "version": 3
   },
   "file_extension": ".py",
   "mimetype": "text/x-python",
   "name": "python",
   "nbconvert_exporter": "python",
   "pygments_lexer": "ipython3",
   "version": "3.7.10"
  }
 },
 "nbformat": 4,
 "nbformat_minor": 5
}
