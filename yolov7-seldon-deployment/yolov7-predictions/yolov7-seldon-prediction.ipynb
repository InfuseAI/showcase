{
 "cells": [
  {
   "cell_type": "markdown",
   "id": "c60299cd",
   "metadata": {},
   "source": [
    "# Variable"
   ]
  },
  {
   "cell_type": "code",
   "execution_count": null,
   "id": "457f3578",
   "metadata": {},
   "outputs": [],
   "source": [
    "yolo_image_size = 640\n",
    "image_file_folder = <Folder-path>\n",
    "image_file_name = \"test\"\n",
    "image_file_type = \"png\"\n",
    "endpoint_url = <endpoint_url>\n",
    "font_path = \"./font/Yagora.ttf\""
   ]
  },
  {
   "cell_type": "markdown",
   "id": "ae0bb562",
   "metadata": {},
   "source": [
    "# Code"
   ]
  },
  {
   "cell_type": "code",
   "execution_count": 2,
   "id": "5b9ea3c0",
   "metadata": {},
   "outputs": [],
   "source": [
    "import json\n",
    "import numpy as np\n",
    "import cv2\n",
    "import requests\n",
    "from PIL import Image, ImageDraw, ImageFont"
   ]
  },
  {
   "cell_type": "code",
   "execution_count": 3,
   "id": "bde9ac76",
   "metadata": {},
   "outputs": [],
   "source": [
    "CLASSES = [\n",
    "    \"person\", \"bicycle\", \"car\", \"motorcycle\", \"airplane\", \"bus\", \"train\", \"truck\", \"boat\", \"traffic light\", \n",
    "    \"fire hydrant\", \"stop sign\", \"parking meter\", \"bench\", \"bird\", \"cat\", \"dog\", \"horse\", \"sheep\", \"cow\", \n",
    "    \"elephant\", \"bear\", \"zebra\", \"giraffe\", \"backpack\", \"umbrella\", \"handbag\", \"tie\", \"suitcase\", \"frisbee\", \n",
    "    \"skis\", \"snowboard\", \"sports ball\", \"kite\", \"baseball bat\", \"baseball glove\", \"skateboard\", \"surfboard\", \n",
    "    \"tennis racket\", \"bottle\", \"wine glass\", \"cup\", \"fork\", \"knife\", \"spoon\", \"bowl\", \"banana\", \"apple\", \n",
    "    \"sandwich\", \"orange\", \"broccoli\", \"car|rot\", \"hot dog\", \"pizza\", \"donut\", \"cake\", \"chair\", \"couch\", \n",
    "    \"potted plant\", \"bed\", \"dining table\", \"toilet\", \"tv\", \"laptop\", \"mouse\", \"remote\", \"keyboard\", \n",
    "    \"cell phone\", \"microwave\", \"oven\", \"toaster\", \"sink\", \"refrigerator\", \"book\", \"clock\", \"vase\", \"scissors\", \n",
    "    \"teddy bear\", \"hair drier\", \"toothbrush\"]"
   ]
  },
  {
   "cell_type": "code",
   "execution_count": 4,
   "id": "50d68079",
   "metadata": {},
   "outputs": [
    {
     "name": "stdout",
     "output_type": "stream",
     "text": [
      "Done for transfer image to json file.\n",
      "json file path: /home/jovyan/yolov7_test/data/test.json\n"
     ]
    }
   ],
   "source": [
    "original_image = cv2.imread(\"{}{}.{}\".format(image_file_folder, image_file_name, image_file_type))\n",
    "\n",
    "json_data = {}\n",
    "json_data['data'] = {}\n",
    "json_data['data'][\"ndarray\"] = [original_image.tolist()]\n",
    "with open('{}{}.json'.format(image_file_folder, image_file_name), 'w') as f:\n",
    "    json.dump(json_data, f)\n",
    "print(\"Done for transfer image to json file.\")\n",
    "print(\"json file path: {}{}.json\".format(image_file_folder, image_file_name))"
   ]
  },
  {
   "cell_type": "code",
   "execution_count": 5,
   "id": "b629938b",
   "metadata": {},
   "outputs": [],
   "source": [
    "def retry_requests(endpoint_url, json_data, retry_times = 20):\n",
    "    for time in range(1, retry_times):\n",
    "        response = requests.post(endpoint_url, json=json_data)\n",
    "        if response.status_code == 200:\n",
    "            print(\"Got status code 200. Return response.\")\n",
    "            return response\n",
    "        elif response.status_code == 413:\n",
    "            print(\"Got status code 413. Need to setting nginx ingress controller.\")\n",
    "            return response\n",
    "        elif response.status_code == 504:\n",
    "            print(\"Got status code 504. Retry the request. Time: {}/{}.\".format(time, retry_times))\n",
    "        else:\n",
    "            return response"
   ]
  },
  {
   "cell_type": "code",
   "execution_count": 6,
   "id": "de03d277",
   "metadata": {},
   "outputs": [
    {
     "name": "stdout",
     "output_type": "stream",
     "text": [
      "Got status code 200. Return response.\n"
     ]
    }
   ],
   "source": [
    "response = retry_requests(endpoint_url, json_data)\n",
    "if response.status_code == 200:\n",
    "    response_json = json.loads(response.text)\n",
    "    pred = response_json['data']['ndarray']\n",
    "else:\n",
    "    print(response.text)"
   ]
  },
  {
   "cell_type": "code",
   "execution_count": 7,
   "id": "77a124c8",
   "metadata": {},
   "outputs": [],
   "source": [
    "image = Image.open(\"{}{}.{}\".format(image_file_folder, image_file_name, image_file_type))\n",
    "font = ImageFont.truetype(font_path, 30)\n",
    "draw = ImageDraw.Draw(image)\n",
    "for x1, y1, x2, y2, conf, class_id in pred:\n",
    "    draw.rectangle(((x1, y1), (x2, y2)), width=2)\n",
    "    draw.text((x1, y1), \"{}, {}\".format(CLASSES[int(class_id)], round(conf, 3)), font = font)\n",
    "\n",
    "image.save(\"{}{}_prediction.{}\".format(image_file_folder, image_file_name, image_file_type))"
   ]
  },
  {
   "cell_type": "markdown",
   "id": "745ca303",
   "metadata": {},
   "source": [
    "# Result"
   ]
  },
  {
   "cell_type": "code",
   "execution_count": 8,
   "id": "aff7a42c",
   "metadata": {},
   "outputs": [
    {
     "name": "stdout",
     "output_type": "stream",
     "text": [
      "You can check the result image: /home/jovyan/yolov7_test/data/test_prediction.png\n"
     ]
    }
   ],
   "source": [
    "print(\"You can check the result image: {}\".\\\n",
    "      format(\"{}{}_prediction.{}\".format(image_file_folder, image_file_name, image_file_type)))"
   ]
  }
 ],
 "metadata": {
  "kernelspec": {
   "display_name": "Python 3.9.13 64-bit",
   "language": "python",
   "name": "python3"
  },
  "language_info": {
   "codemirror_mode": {
    "name": "ipython",
    "version": 3
   },
   "file_extension": ".py",
   "mimetype": "text/x-python",
   "name": "python",
   "nbconvert_exporter": "python",
   "pygments_lexer": "ipython3",
   "version": "3.9.13"
  },
  "vscode": {
   "interpreter": {
    "hash": "b0fa6594d8f4cbf19f97940f81e996739fb7646882a419484c72d19e05852a7e"
   }
  }
 },
 "nbformat": 4,
 "nbformat_minor": 5
}
