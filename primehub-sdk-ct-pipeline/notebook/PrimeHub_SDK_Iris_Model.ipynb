{
  "nbformat": 4,
  "nbformat_minor": 0,
  "metadata": {
    "colab": {
      "name": "PrimeHub_SDK_Iris_Model.ipynb",
      "provenance": [],
      "collapsed_sections": []
    },
    "kernelspec": {
      "name": "python3",
      "display_name": "Python 3"
    },
    "language_info": {
      "name": "python"
    }
  },
  "cells": [
    {
      "cell_type": "code",
      "metadata": {
        "colab": {
          "base_uri": "https://localhost:8080/"
        },
        "id": "H6kLiAbbIF3T",
        "outputId": "c06f0ebb-79bd-4032-bc2c-d6d1eba03ef4"
      },
      "source": [
        "# Install PrimeHub SDK.\n",
        "!pip install primehub-python-sdk==0.3.5"
      ],
      "execution_count": 1,
      "outputs": [
        {
          "output_type": "stream",
          "name": "stdout",
          "text": [
            "Collecting primehub-python-sdk\n",
            "  Downloading primehub_python_sdk-0.3.5-py3-none-any.whl (73 kB)\n",
            "\u001b[?25l\r\u001b[K     |████▌                           | 10 kB 18.9 MB/s eta 0:00:01\r\u001b[K     |█████████                       | 20 kB 20.9 MB/s eta 0:00:01\r\u001b[K     |█████████████▍                  | 30 kB 22.7 MB/s eta 0:00:01\r\u001b[K     |█████████████████▉              | 40 kB 24.1 MB/s eta 0:00:01\r\u001b[K     |██████████████████████▎         | 51 kB 23.4 MB/s eta 0:00:01\r\u001b[K     |██████████████████████████▊     | 61 kB 24.2 MB/s eta 0:00:01\r\u001b[K     |███████████████████████████████▏| 71 kB 25.3 MB/s eta 0:00:01\r\u001b[K     |████████████████████████████████| 73 kB 1.3 MB/s \n",
            "\u001b[?25hCollecting types-requests\n",
            "  Downloading types_requests-2.25.11-py3-none-any.whl (22 kB)\n",
            "Requirement already satisfied: requests in /usr/local/lib/python3.7/dist-packages (from primehub-python-sdk) (2.23.0)\n",
            "Requirement already satisfied: tabulate==0.8.9 in /usr/local/lib/python3.7/dist-packages (from primehub-python-sdk) (0.8.9)\n",
            "Collecting types-tabulate==0.8.2\n",
            "  Downloading types_tabulate-0.8.2-py3-none-any.whl (2.4 kB)\n",
            "Requirement already satisfied: urllib3!=1.25.0,!=1.25.1,<1.26,>=1.21.1 in /usr/local/lib/python3.7/dist-packages (from requests->primehub-python-sdk) (1.24.3)\n",
            "Requirement already satisfied: certifi>=2017.4.17 in /usr/local/lib/python3.7/dist-packages (from requests->primehub-python-sdk) (2021.5.30)\n",
            "Requirement already satisfied: chardet<4,>=3.0.2 in /usr/local/lib/python3.7/dist-packages (from requests->primehub-python-sdk) (3.0.4)\n",
            "Requirement already satisfied: idna<3,>=2.5 in /usr/local/lib/python3.7/dist-packages (from requests->primehub-python-sdk) (2.10)\n",
            "Installing collected packages: types-tabulate, types-requests, primehub-python-sdk\n",
            "Successfully installed primehub-python-sdk-0.3.5 types-requests-2.25.11 types-tabulate-0.8.2\n"
          ]
        }
      ]
    },
    {
      "cell_type": "code",
      "metadata": {
        "id": "mZs_PYtj3uhP"
      },
      "source": [
        "# Please filled in the PrimeHub cluster.\n",
        "PRIMEHUB_CLUSTER = <primehub-cluster-url>"
      ],
      "execution_count": 2,
      "outputs": []
    },
    {
      "cell_type": "code",
      "metadata": {
        "id": "oI2HMGTD6cXY"
      },
      "source": [
        "# Setting the primehub sdk config.\n",
        "from primehub import PrimeHub, PrimeHubConfig\n",
        "ph = PrimeHub(PrimeHubConfig())"
      ],
      "execution_count": 3,
      "outputs": []
    },
    {
      "cell_type": "code",
      "metadata": {
        "colab": {
          "base_uri": "https://localhost:8080/"
        },
        "id": "27Ii7YFxIQwX",
        "outputId": "b4c559be-8ba8-4618-bf45-f34bd727f8f4"
      },
      "source": [
        "# Login config setting\n",
        "import os\n",
        "if not os.path.exists(\"/root/.primehub/config.json\"):\n",
        "  ph.config.generate(PRIMEHUB_CLUSTER)"
      ],
      "execution_count": 4,
      "outputs": [
        {
          "output_type": "stream",
          "name": "stdout",
          "text": [
            "Go to this URL in the browser http://ec2-52-199-104-24.ap-northeast-1.compute.amazonaws.com/console/oidc/auth-flow/request\n",
            "Enter your authorization code:\n",
            "c3RhdGU9YTc1YTAzYmItZjYzZS00ZDY5LWI1OTEtNjEyNjRhZDAxOGJmJnNlc3Npb25fc3RhdGU9OTdkMGI0ZTItOGY5Yi00OGQyLTgyNTMtYzNkMGE3OTQzODcxJmNvZGU9MWExNjdlODQtMmI4ZC00NDAyLTgyMzAtMGFlZDFkZjRmZmQ3Ljk3ZDBiNGUyLThmOWItNDhkMi04MjUzLWMzZDBhNzk0Mzg3MS5kNTA1ZTAwOS00MzUxLTRiZGItOWNkOS00YmNkZjk3YzY4Y2M=\n",
            "PrimeHub SDK Config has been updated: /root/.primehub/config.json\n"
          ]
        }
      ]
    },
    {
      "cell_type": "code",
      "metadata": {
        "colab": {
          "base_uri": "https://localhost:8080/"
        },
        "id": "wfRtnzYpZBb6",
        "outputId": "182df205-b859-4981-c4f0-71a5f52be8f2"
      },
      "source": [
        "# Get config json file information.\n",
        "!cat /root/.primehub/config.json"
      ],
      "execution_count": 5,
      "outputs": [
        {
          "output_type": "stream",
          "name": "stdout",
          "text": [
            "{\n",
            "  \"api-token\": \"eyJhbGciOiJIUzI1NiIsInR5cCIgOiAiSldUIiwia2lkIiA6ICIyNjE1ODNhZC1iODc5LTRmY2EtODVlYi1hOTQwNGU3NGUzNTYifQ.eyJqdGkiOiIzMmE1NzU4Mi01OTRmLTRlYjAtOTFkOC04N2EyNWFjYTIxNDkiLCJleHAiOjAsIm5iZiI6MCwiaWF0IjoxNjM1NzMxNzU4LCJpc3MiOiJodHRwOi8vZWMyLTUyLTE5OS0xMDQtMjQuYXAtbm9ydGhlYXN0LTEuY29tcHV0ZS5hbWF6b25hd3MuY29tL2F1dGgvcmVhbG1zL3ByaW1laHViIiwiYXVkIjoiaHR0cDovL2VjMi01Mi0xOTktMTA0LTI0LmFwLW5vcnRoZWFzdC0xLmNvbXB1dGUuYW1hem9uYXdzLmNvbS9hdXRoL3JlYWxtcy9wcmltZWh1YiIsInN1YiI6IjFlYWY2ZTIyLWQ1M2UtNDhmNC05NjFiLWI5MjcxZTJkYTY3NSIsInR5cCI6Ik9mZmxpbmUiLCJhenAiOiJhZG1pbi11aSIsImF1dGhfdGltZSI6MCwic2Vzc2lvbl9zdGF0ZSI6Ijk3ZDBiNGUyLThmOWItNDhkMi04MjUzLWMzZDBhNzk0Mzg3MSIsInJlYWxtX2FjY2VzcyI6eyJyb2xlcyI6WyJvZmZsaW5lX2FjY2VzcyJdfSwicmVzb3VyY2VfYWNjZXNzIjp7InJlYWxtLW1hbmFnZW1lbnQiOnsicm9sZXMiOlsidmlldy1pZGVudGl0eS1wcm92aWRlcnMiLCJ2aWV3LXJlYWxtIiwibWFuYWdlLWlkZW50aXR5LXByb3ZpZGVycyIsImltcGVyc29uYXRpb24iLCJyZWFsbS1hZG1pbiIsImNyZWF0ZS1jbGllbnQiLCJtYW5hZ2UtdXNlcnMiLCJxdWVyeS1yZWFsbXMiLCJ2aWV3LWF1dGhvcml6YXRpb24iLCJxdWVyeS1jbGllbnRzIiwicXVlcnktdXNlcnMiLCJtYW5hZ2UtZXZlbnRzIiwibWFuYWdlLXJlYWxtIiwidmlldy1ldmVudHMiLCJ2aWV3LXVzZXJzIiwidmlldy1jbGllbnRzIiwibWFuYWdlLWF1dGhvcml6YXRpb24iLCJtYW5hZ2UtY2xpZW50cyIsInF1ZXJ5LWdyb3VwcyJdfX0sInNjb3BlIjoicHJvZmlsZSBlbWFpbCBvZmZsaW5lX2FjY2VzcyJ9.EivVYIqlKrAIl775rfZt1MIhtXqfasy9uHyZVW519yU\",\n",
            "  \"endpoint\": \"http://ec2-52-199-104-24.ap-northeast-1.compute.amazonaws.com/api/graphql\",\n",
            "  \"group\": {\n",
            "    \"name\": \"phusers\"\n",
            "  }\n",
            "}"
          ]
        }
      ]
    },
    {
      "cell_type": "code",
      "metadata": {
        "id": "CCjRRDuU67o-"
      },
      "source": [
        "# Setting the primehub sdk config.\n",
        "ph = PrimeHub(PrimeHubConfig())"
      ],
      "execution_count": 6,
      "outputs": []
    },
    {
      "cell_type": "code",
      "metadata": {
        "colab": {
          "base_uri": "https://localhost:8080/"
        },
        "id": "6wR3mabNIRrG",
        "outputId": "5a29ea77-60ba-411a-8021-d341d334ff72"
      },
      "source": [
        "# Check the SDK setup is ready.\n",
        "if ph.is_ready():\n",
        "    print(\"PrimeHub Python SDK setup successfully\")\n",
        "    print(\"Current Group:\", ph.primehub_config.current_group)\n",
        "else:\n",
        "    print(\"PrimeHub Python SDK couldn't get the group information, please check the configuration.\")"
      ],
      "execution_count": 7,
      "outputs": [
        {
          "output_type": "stream",
          "name": "stdout",
          "text": [
            "PrimeHub Python SDK setup successfully\n",
            "Current Group: {'id': '03a59447-d94a-46ff-97a5-f10dfb6c0e50', 'name': 'phusers', 'displayName': 'primehub users'}\n"
          ]
        }
      ]
    },
    {
      "cell_type": "code",
      "metadata": {
        "colab": {
          "base_uri": "https://localhost:8080/"
        },
        "id": "BVHxfGu0ISOe",
        "outputId": "c9617e2c-8400-471e-ec52-13a000031f03"
      },
      "source": [
        "# Submit a job to train model.\n",
        "config = {\n",
        "    \"instanceType\": \"cpu-1\",\n",
        "    \"image\": \"tf-2\",\n",
        "    \"displayName\": \"iris-model-training\",\n",
        "    \"command\": \"\"\"git clone https://github.com/InfuseAI/showcase.git\n",
        "ls\n",
        "cd ./showcase/primehub-sdk-ct-pipeline\n",
        "pip install -r requirements.txt\n",
        "python main.py\n",
        "\"\"\",\n",
        "}\n",
        "\n",
        "short_job = ph.jobs.submit(config)\n",
        "print(short_job)\n",
        "\n",
        "# Wait the job to be done\n",
        "print('[ Waiting ]')\n",
        "ph.jobs.wait(short_job['id'])\n",
        "print('[ Job Done ]')\n",
        "\n",
        "# Get logs\n",
        "logs = ph.jobs.logs(short_job['id'])\n",
        "print('[ Job Logs ]')\n",
        "for l in logs:\n",
        "    print(l)"
      ],
      "execution_count": 8,
      "outputs": [
        {
          "output_type": "stream",
          "name": "stdout",
          "text": [
            "{'id': 'job-202111010156-qf7gvj', 'displayName': 'iris-model-training', 'cancel': False, 'command': 'git clone https://github.com/LiuYuWei/training_pipeline.git\\nls\\ncd training_pipeline\\npip install -r requirements.txt\\npython main.py\\n', 'groupId': '03a59447-d94a-46ff-97a5-f10dfb6c0e50', 'groupName': 'phusers', 'schedule': None, 'image': 'tf-2', 'instanceType': {'id': 'cpu-1', 'name': 'cpu-1', 'displayName': 'CPU 1', 'cpuLimit': 1, 'memoryLimit': 2, 'gpuLimit': 0}, 'userId': '1eaf6e22-d53e-48f4-961b-b9271e2da675', 'userName': 'phadmin', 'phase': 'Pending', 'reason': None, 'message': None, 'createTime': '2021-11-01T01:56:00Z', 'startTime': None, 'finishTime': None}\n",
            "[ Waiting ]\n",
            "[ Job Done ]\n",
            "[ Job Logs ]\n",
            "b'Finish data transform.\\nStart data training.\\nFinish data training.\\nAccuracy: 0.9333333333333333\\nFinish data evaluation.\\nYou are already create the registry model.\\nStatus: READY.\\nVersion: 3.\\n2021/11/01 01:57:27 INFO mlflow.tracking._model_registry.client: Waiting up to 300 seconds for model version to finish creation.                     Model name: iris-model, version 3\\nArtifacts: no artifact found\\n'\n"
          ]
        }
      ]
    },
    {
      "cell_type": "code",
      "metadata": {
        "id": "dDJZuImFKU4H"
      },
      "source": [
        "# List all versions of a model\n",
        "model_information = []\n",
        "model_versions = ph.models.list_versions('iris-model')\n",
        "for version in model_versions:\n",
        "  model_information.append(version)"
      ],
      "execution_count": 9,
      "outputs": []
    },
    {
      "cell_type": "code",
      "metadata": {
        "colab": {
          "base_uri": "https://localhost:8080/"
        },
        "id": "zdyWS8rP4E5c",
        "outputId": "26a3a35a-bea8-43cd-9072-df4a5dba874f"
      },
      "source": [
        "from primehub.utils import ResourceNotFoundException\n",
        "\n",
        "# Create a deployment\n",
        "deployment_id=f\"iris-model\" \n",
        "config = {\n",
        "    \"id\": deployment_id,\n",
        "    \"name\": f\"Iris model\",\n",
        "    \"modelImage\": \"infuseai/sklearn-prepackaged:v0.1.0\",\n",
        "    \"modelURI\": \"models:/iris-model/{}\".format(model_information[-1]['version']),\n",
        "    \"instanceType\": \"cpu-1\",\n",
        "    \"replicas\": 1\n",
        "}\n",
        "\n",
        "# Delete a deployment\n",
        "try:\n",
        "  ph.deployments.delete(deployment_id)\n",
        "  print(\"Finish delete model deployment\")\n",
        "except ResourceNotFoundException as e:\n",
        "  print(\"Model deployment resource not found.\")\n",
        "\n",
        "# Create a deployment\n",
        "deployment = ph.deployments.create(config)\n",
        "print(f\"\"\"\n",
        "Deployment Id: {deployment_id} \n",
        "Deployment Page: {PRIMEHUB_CLUSTER}/console/g/phusers/deployments/{deployment_id}\n",
        "\"\"\")\n",
        "\n",
        "# Wait for the deployment ready\n",
        "print('[ Waiting ]')\n",
        "ph.deployments.wait(deployment['id'])\n",
        "print('[ Deployment Ready ]')\n",
        "deployment = ph.deployments.get(deployment['id'])"
      ],
      "execution_count": 19,
      "outputs": [
        {
          "output_type": "stream",
          "name": "stdout",
          "text": [
            "Finish delete model deployment\n",
            "\n",
            "Deployment Id: iris-model \n",
            "Deployment Page: http://ec2-52-199-104-24.ap-northeast-1.compute.amazonaws.com//console/g/phusers/deployments/iris-model\n",
            "\n",
            "[ Waiting ]\n",
            "[ Deployment Ready ]\n"
          ]
        }
      ]
    },
    {
      "cell_type": "code",
      "metadata": {
        "colab": {
          "base_uri": "https://localhost:8080/"
        },
        "id": "eOIXSuKk4vSP",
        "outputId": "46d1b8fd-6505-4510-b416-3429e2345131"
      },
      "source": [
        "# Use model server to predict the test data\n",
        "import json\n",
        "import requests\n",
        "\n",
        "url = deployment['endpoint']\n",
        "data = {\n",
        "    \"data\": {\n",
        "        \"ndarray\": [[1, 1, 1, 0.5]]\n",
        "    }\n",
        "}\n",
        "headers = {'Content-type': 'application/json'}\n",
        "\n",
        "result = requests.post(url, data=json.dumps(data), headers=headers)\n",
        "if result.status_code != 200:\n",
        "  print(f\"{result.status_code}: {result.reason}\")\n",
        "\n",
        "predict_result = json.loads(result.content.decode())\n",
        "\n",
        "print(predict_result)"
      ],
      "execution_count": 11,
      "outputs": [
        {
          "output_type": "stream",
          "name": "stdout",
          "text": [
            "{'data': {'names': ['t:0', 't:1', 't:2'], 'ndarray': [[0.0, 0.0, 1.0]]}, 'meta': {'requestPath': {'model': 'infuseai/sklearn-prepackaged:v0.1.0'}}}\n"
          ]
        }
      ]
    }
  ]
}