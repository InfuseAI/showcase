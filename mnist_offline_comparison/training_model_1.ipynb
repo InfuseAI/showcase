{
 "cells": [
  {
   "cell_type": "code",
   "execution_count": 1,
   "id": "d124a0a4",
   "metadata": {},
   "outputs": [],
   "source": [
    "import tensorflow as tf\n",
    "from tensorflow.keras import layers\n",
    "import mlflow\n",
    "import mlflow.tensorflow\n",
    "\n",
    "# 載入MNIST數據集\n",
    "mnist = tf.keras.datasets.mnist\n",
    "(x_train, y_train), (x_test, y_test) = mnist.load_data()"
   ]
  },
  {
   "cell_type": "code",
   "execution_count": 2,
   "id": "b378d394",
   "metadata": {},
   "outputs": [],
   "source": [
    "# 正規化數據\n",
    "x_train = x_train / 255.0\n",
    "x_test = x_test / 255.0"
   ]
  },
  {
   "cell_type": "code",
   "execution_count": 3,
   "id": "ffc93a7b",
   "metadata": {},
   "outputs": [],
   "source": [
    "# 將資料分為training、validation和testing dataset\n",
    "validation_split = 0.2\n",
    "num_val_samples = int(len(x_train) * validation_split)\n",
    "\n",
    "x_val = x_train[:num_val_samples]\n",
    "y_val = y_train[:num_val_samples]\n",
    "x_train = x_train[num_val_samples:]\n",
    "y_train = y_train[num_val_samples:]"
   ]
  },
  {
   "cell_type": "code",
   "execution_count": 4,
   "id": "69455a07",
   "metadata": {},
   "outputs": [],
   "source": [
    "# 定義模型\n",
    "model = tf.keras.Sequential([\n",
    "    layers.Flatten(input_shape=(28, 28)),  # 將28 x 28的圖像攤平成784維向量\n",
    "    layers.Dense(128, activation='relu'),  # 添加一層具有128個神經元的全連接層\n",
    "    layers.Dropout(0.2),  # 添加Dropout層，減少過度擬合\n",
    "    layers.Dense(10)  # 添加具有10個神經元的全連接層，用於分類\n",
    "])\n",
    "\n",
    "# 定義損失函數和優化器\n",
    "loss_fn = tf.keras.losses.SparseCategoricalCrossentropy(from_logits=True)\n",
    "optimizer = tf.keras.optimizers.Adam()\n",
    "\n",
    "# 編譯模型\n",
    "model.compile(optimizer=optimizer, loss=loss_fn, metrics=['accuracy'])"
   ]
  },
  {
   "cell_type": "code",
   "execution_count": 5,
   "id": "51644824",
   "metadata": {},
   "outputs": [],
   "source": [
    "# 定義訓練的超參數\n",
    "epochs = 10\n",
    "batch_size = 32"
   ]
  },
  {
   "cell_type": "code",
   "execution_count": 6,
   "id": "89806748",
   "metadata": {},
   "outputs": [],
   "source": [
    "# 使用mlflow紀錄模型parameter\n",
    "mlflow.set_experiment(\"mnist_train\")\n",
    "mlflow.tensorflow.autolog()"
   ]
  },
  {
   "cell_type": "code",
   "execution_count": 7,
   "id": "7ae20902",
   "metadata": {},
   "outputs": [
    {
     "name": "stdout",
     "output_type": "stream",
     "text": [
      "Epoch 1/10\n",
      "   1/1500 [..............................] - ETA: 12:47 - loss: 2.4813 - accuracy: 0.0625WARNING:tensorflow:Callback method `on_train_batch_end` is slow compared to the batch time (batch time: 0.0021s vs `on_train_batch_end` time: 0.0032s). Check your callbacks.\n",
      "1500/1500 [==============================] - 9s 5ms/step - loss: 0.3230 - accuracy: 0.9053 - val_loss: 0.1605 - val_accuracy: 0.9532\n",
      "Epoch 2/10\n",
      "1500/1500 [==============================] - 9s 6ms/step - loss: 0.1567 - accuracy: 0.9532 - val_loss: 0.1153 - val_accuracy: 0.9663\n",
      "Epoch 3/10\n",
      "1500/1500 [==============================] - 12s 8ms/step - loss: 0.1179 - accuracy: 0.9645 - val_loss: 0.0999 - val_accuracy: 0.9692\n",
      "Epoch 4/10\n",
      "1500/1500 [==============================] - 13s 8ms/step - loss: 0.0920 - accuracy: 0.9718 - val_loss: 0.0862 - val_accuracy: 0.9747\n",
      "Epoch 5/10\n",
      "1500/1500 [==============================] - 11s 7ms/step - loss: 0.0785 - accuracy: 0.9752 - val_loss: 0.0809 - val_accuracy: 0.9745\n",
      "Epoch 6/10\n",
      "1500/1500 [==============================] - 12s 8ms/step - loss: 0.0689 - accuracy: 0.9789 - val_loss: 0.0797 - val_accuracy: 0.9758\n",
      "Epoch 7/10\n",
      "1500/1500 [==============================] - 12s 8ms/step - loss: 0.0589 - accuracy: 0.9816 - val_loss: 0.0757 - val_accuracy: 0.9771\n",
      "Epoch 8/10\n",
      "1500/1500 [==============================] - 12s 8ms/step - loss: 0.0519 - accuracy: 0.9831 - val_loss: 0.0797 - val_accuracy: 0.9766\n",
      "Epoch 9/10\n",
      "1500/1500 [==============================] - 13s 8ms/step - loss: 0.0475 - accuracy: 0.9843 - val_loss: 0.0741 - val_accuracy: 0.9772\n",
      "Epoch 10/10\n",
      "1500/1500 [==============================] - 12s 8ms/step - loss: 0.0431 - accuracy: 0.9860 - val_loss: 0.0734 - val_accuracy: 0.9793\n",
      "INFO:tensorflow:Assets written to: /tmp/tmp_r7vfa3q/model/data/model/assets\n",
      "313/313 [==============================] - 2s 5ms/step - loss: 0.0679 - accuracy: 0.9797\n",
      "INFO:tensorflow:Assets written to: /tmp/tmp4db43r27/model/data/model/assets\n"
     ]
    }
   ],
   "source": [
    "# 訓練模型，使用validation dataset當作early stop的依據\n",
    "with mlflow.start_run() as run:\n",
    "    mlflow.set_tag(\"model_type\", \"v1\")\n",
    "    \n",
    "    history = model.fit(x_train, y_train, batch_size=batch_size, epochs=epochs,\n",
    "                        validation_data=(x_val, y_val), callbacks=[tf.keras.callbacks.EarlyStopping(patience=3)])\n",
    "    \n",
    "    # 使用mlflow紀錄模型metrics\n",
    "    mlflow.log_metric(\"accuracy\", history.history[\"accuracy\"][-1])\n",
    "    mlflow.log_metric(\"val_accuracy\", history.history[\"val_accuracy\"][-1])\n",
    "    \n",
    "    # 評估模型準確度\n",
    "    test_loss, test_accuracy = model.evaluate(x_test, y_test)\n",
    "    mlflow.log_metric(\"test_loss\", test_loss)\n",
    "    mlflow.log_metric(\"test_accuracy\", test_accuracy)\n",
    "    \n",
    "    # 使用mlflow紀錄模型\n",
    "    mlflow.keras.log_model(model, \"model\")\n"
   ]
  }
 ],
 "metadata": {
  "kernelspec": {
   "display_name": "Python 3",
   "language": "python",
   "name": "python3"
  },
  "language_info": {
   "codemirror_mode": {
    "name": "ipython",
    "version": 3
   },
   "file_extension": ".py",
   "mimetype": "text/x-python",
   "name": "python",
   "nbconvert_exporter": "python",
   "pygments_lexer": "ipython3",
   "version": "3.7.10"
  }
 },
 "nbformat": 4,
 "nbformat_minor": 5
}
