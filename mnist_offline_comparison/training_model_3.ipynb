{
 "cells": [
  {
   "cell_type": "code",
   "execution_count": 1,
   "id": "f7bc78e9",
   "metadata": {},
   "outputs": [],
   "source": [
    "import tensorflow as tf\n",
    "from tensorflow.keras import layers\n",
    "import mlflow\n",
    "import mlflow.tensorflow\n",
    "\n",
    "# 載入MNIST數據集\n",
    "mnist = tf.keras.datasets.mnist\n",
    "(x_train, y_train), (x_test, y_test) = mnist.load_data()"
   ]
  },
  {
   "cell_type": "code",
   "execution_count": 2,
   "id": "c53ad251",
   "metadata": {},
   "outputs": [],
   "source": [
    "# 正規化數據\n",
    "x_train = x_train / 255.0\n",
    "x_test = x_test / 255.0"
   ]
  },
  {
   "cell_type": "code",
   "execution_count": 3,
   "id": "2fcc0198",
   "metadata": {},
   "outputs": [],
   "source": [
    "# 將資料分為training、validation和testing dataset\n",
    "validation_split = 0.2\n",
    "num_val_samples = int(len(x_train) * validation_split)\n",
    "\n",
    "x_val = x_train[:num_val_samples]\n",
    "y_val = y_train[:num_val_samples]\n",
    "x_train = x_train[num_val_samples:]\n",
    "y_train = y_train[num_val_samples:]"
   ]
  },
  {
   "cell_type": "code",
   "execution_count": 4,
   "id": "6f4d7dab",
   "metadata": {},
   "outputs": [],
   "source": [
    "# 定義模型\n",
    "model = tf.keras.Sequential([\n",
    "    layers.Flatten(input_shape=(28, 28)),  # 將28 x 28的圖像攤平成784維向量\n",
    "    layers.Dense(256, activation='relu'),  # 添加一層具有256個神經元的全連接層\n",
    "    layers.Dropout(0.2),  # 添加Dropout層，減少過度擬合\n",
    "    layers.Dense(128, activation='relu'),  # 再添加一層具有128個神經元的全連接層\n",
    "    layers.Dropout(0.2),  # 再添加一層Dropout層，減少過度擬合\n",
    "    layers.Dense(64, activation='relu'),  # 再添加一層具有128個神經元的全連接層\n",
    "    layers.Dropout(0.2),  # 再添加一層Dropout層，減少過度擬合\n",
    "    layers.Dense(10)  # 添加具有10個神經元的全連接層，用於分類\n",
    "])\n",
    "\n",
    "\n",
    "# 定義損失函數和優化器\n",
    "loss_fn = tf.keras.losses.SparseCategoricalCrossentropy(from_logits=True)\n",
    "optimizer = tf.keras.optimizers.Adam()\n",
    "\n",
    "# 編譯模型\n",
    "model.compile(optimizer=optimizer, loss=loss_fn, metrics=['accuracy'])"
   ]
  },
  {
   "cell_type": "code",
   "execution_count": 5,
   "id": "e234496c",
   "metadata": {},
   "outputs": [],
   "source": [
    "# 定義訓練的超參數\n",
    "epochs = 10\n",
    "batch_size = 32"
   ]
  },
  {
   "cell_type": "code",
   "execution_count": 6,
   "id": "ec92d4ac",
   "metadata": {},
   "outputs": [],
   "source": [
    "# 使用mlflow紀錄模型parameter\n",
    "mlflow.set_experiment(\"mnist_train\")\n",
    "mlflow.tensorflow.autolog()"
   ]
  },
  {
   "cell_type": "code",
   "execution_count": 7,
   "id": "e931d1f6",
   "metadata": {},
   "outputs": [
    {
     "name": "stdout",
     "output_type": "stream",
     "text": [
      "Epoch 1/10\n",
      "1500/1500 [==============================] - 18s 11ms/step - loss: 0.3490 - accuracy: 0.8953 - val_loss: 0.1451 - val_accuracy: 0.9562\n",
      "Epoch 2/10\n",
      "1500/1500 [==============================] - 16s 11ms/step - loss: 0.1579 - accuracy: 0.9540 - val_loss: 0.1156 - val_accuracy: 0.9649\n",
      "Epoch 3/10\n",
      "1500/1500 [==============================] - 17s 11ms/step - loss: 0.1206 - accuracy: 0.9655 - val_loss: 0.1012 - val_accuracy: 0.9724\n",
      "Epoch 4/10\n",
      "1500/1500 [==============================] - 15s 10ms/step - loss: 0.0971 - accuracy: 0.9718 - val_loss: 0.0968 - val_accuracy: 0.9730\n",
      "Epoch 5/10\n",
      "1500/1500 [==============================] - 17s 11ms/step - loss: 0.0861 - accuracy: 0.9747 - val_loss: 0.0874 - val_accuracy: 0.9758\n",
      "Epoch 6/10\n",
      "1500/1500 [==============================] - 16s 11ms/step - loss: 0.0735 - accuracy: 0.9781 - val_loss: 0.0876 - val_accuracy: 0.9757\n",
      "Epoch 7/10\n",
      "1500/1500 [==============================] - 8s 5ms/step - loss: 0.0673 - accuracy: 0.9794 - val_loss: 0.0858 - val_accuracy: 0.9739\n",
      "Epoch 8/10\n",
      "1500/1500 [==============================] - 5s 3ms/step - loss: 0.0647 - accuracy: 0.9804 - val_loss: 0.0916 - val_accuracy: 0.9747\n",
      "Epoch 9/10\n",
      "1500/1500 [==============================] - 5s 3ms/step - loss: 0.0572 - accuracy: 0.9825 - val_loss: 0.0898 - val_accuracy: 0.9768\n",
      "Epoch 10/10\n",
      "1500/1500 [==============================] - 5s 3ms/step - loss: 0.0501 - accuracy: 0.9851 - val_loss: 0.0879 - val_accuracy: 0.9786\n",
      "INFO:tensorflow:Assets written to: /tmp/tmp37u326ju/model/data/model/assets\n",
      "313/313 [==============================] - 1s 2ms/step - loss: 0.0941 - accuracy: 0.9767\n",
      "INFO:tensorflow:Assets written to: /tmp/tmplow4eyno/model/data/model/assets\n"
     ]
    }
   ],
   "source": [
    "# 訓練模型，使用validation dataset當作early stop的依據\n",
    "with mlflow.start_run() as run:\n",
    "    mlflow.set_tag(\"model_type\", \"v3\")\n",
    "    \n",
    "    history = model.fit(x_train, y_train, batch_size=batch_size, epochs=epochs,\n",
    "                        validation_data=(x_val, y_val), callbacks=[tf.keras.callbacks.EarlyStopping(patience=3)])\n",
    "    \n",
    "    # 使用mlflow紀錄模型metrics\n",
    "    mlflow.log_metric(\"accuracy\", history.history[\"accuracy\"][-1])\n",
    "    mlflow.log_metric(\"val_accuracy\", history.history[\"val_accuracy\"][-1])\n",
    "    \n",
    "    # 評估模型準確度\n",
    "    test_loss, test_accuracy = model.evaluate(x_test, y_test)\n",
    "    mlflow.log_metric(\"test_loss\", test_loss)\n",
    "    mlflow.log_metric(\"test_accuracy\", test_accuracy)\n",
    "    \n",
    "    # 使用mlflow紀錄模型\n",
    "    mlflow.keras.log_model(model, \"model\")\n"
   ]
  }
 ],
 "metadata": {
  "kernelspec": {
   "display_name": "Python 3",
   "language": "python",
   "name": "python3"
  },
  "language_info": {
   "codemirror_mode": {
    "name": "ipython",
    "version": 3
   },
   "file_extension": ".py",
   "mimetype": "text/x-python",
   "name": "python",
   "nbconvert_exporter": "python",
   "pygments_lexer": "ipython3",
   "version": "3.7.10"
  }
 },
 "nbformat": 4,
 "nbformat_minor": 5
}
