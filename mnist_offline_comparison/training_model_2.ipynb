{
 "cells": [
  {
   "cell_type": "code",
   "execution_count": 1,
   "id": "4842f0f8",
   "metadata": {},
   "outputs": [],
   "source": [
    "import tensorflow as tf\n",
    "from tensorflow.keras import layers\n",
    "import mlflow\n",
    "import mlflow.tensorflow\n",
    "\n",
    "# 載入MNIST數據集\n",
    "mnist = tf.keras.datasets.mnist\n",
    "(x_train, y_train), (x_test, y_test) = mnist.load_data()"
   ]
  },
  {
   "cell_type": "code",
   "execution_count": 2,
   "id": "f14819ac",
   "metadata": {},
   "outputs": [],
   "source": [
    "# 正規化數據\n",
    "x_train = x_train / 255.0\n",
    "x_test = x_test / 255.0"
   ]
  },
  {
   "cell_type": "code",
   "execution_count": 3,
   "id": "8f8d3421",
   "metadata": {},
   "outputs": [],
   "source": [
    "# 將資料分為training、validation和testing dataset\n",
    "validation_split = 0.2\n",
    "num_val_samples = int(len(x_train) * validation_split)\n",
    "\n",
    "x_val = x_train[:num_val_samples]\n",
    "y_val = y_train[:num_val_samples]\n",
    "x_train = x_train[num_val_samples:]\n",
    "y_train = y_train[num_val_samples:]"
   ]
  },
  {
   "cell_type": "code",
   "execution_count": 4,
   "id": "86354b27",
   "metadata": {},
   "outputs": [],
   "source": [
    "# 定義模型\n",
    "model = tf.keras.Sequential([\n",
    "    layers.Flatten(input_shape=(28, 28)),  # 將28 x 28的圖像攤平成784維向量\n",
    "    layers.Dense(256, activation='relu'),  # 添加一層具有256個神經元的全連接層\n",
    "    layers.Dropout(0.2),  # 添加Dropout層，減少過度擬合\n",
    "    layers.Dense(128, activation='relu'),  # 再添加一層具有128個神經元的全連接層\n",
    "    layers.Dropout(0.2),  # 再添加一層Dropout層，減少過度擬合\n",
    "    layers.Dense(10)  # 添加具有10個神經元的全連接層，用於分類\n",
    "])\n",
    "\n",
    "# 定義損失函數和優化器\n",
    "loss_fn = tf.keras.losses.SparseCategoricalCrossentropy(from_logits=True)\n",
    "optimizer = tf.keras.optimizers.Adam()\n",
    "\n",
    "# 編譯模型\n",
    "model.compile(optimizer=optimizer, loss=loss_fn, metrics=['accuracy'])"
   ]
  },
  {
   "cell_type": "code",
   "execution_count": 5,
   "id": "82a3ca40",
   "metadata": {},
   "outputs": [],
   "source": [
    "# 定義訓練的超參數\n",
    "epochs = 10\n",
    "batch_size = 32"
   ]
  },
  {
   "cell_type": "code",
   "execution_count": 6,
   "id": "e25105a2",
   "metadata": {},
   "outputs": [],
   "source": [
    "# 使用mlflow紀錄模型parameter\n",
    "mlflow.set_experiment(\"mnist_train\")\n",
    "mlflow.tensorflow.autolog()"
   ]
  },
  {
   "cell_type": "code",
   "execution_count": 7,
   "id": "35070024",
   "metadata": {},
   "outputs": [
    {
     "name": "stdout",
     "output_type": "stream",
     "text": [
      "Epoch 1/10\n",
      "   3/1500 [..............................] - ETA: 50s - loss: 2.3110 - accuracy: 0.0833  WARNING:tensorflow:Callback method `on_train_batch_end` is slow compared to the batch time (batch time: 0.0039s vs `on_train_batch_end` time: 0.0102s). Check your callbacks.\n",
      "1500/1500 [==============================] - 18s 11ms/step - loss: 0.2861 - accuracy: 0.9143 - val_loss: 0.1213 - val_accuracy: 0.9632\n",
      "Epoch 2/10\n",
      "1500/1500 [==============================] - 14s 9ms/step - loss: 0.1320 - accuracy: 0.9596 - val_loss: 0.0993 - val_accuracy: 0.9699\n",
      "Epoch 3/10\n",
      "1500/1500 [==============================] - 15s 10ms/step - loss: 0.0973 - accuracy: 0.9703 - val_loss: 0.0852 - val_accuracy: 0.9745\n",
      "Epoch 4/10\n",
      "1500/1500 [==============================] - 15s 10ms/step - loss: 0.0791 - accuracy: 0.9760 - val_loss: 0.0719 - val_accuracy: 0.9773\n",
      "Epoch 5/10\n",
      "1500/1500 [==============================] - 14s 10ms/step - loss: 0.0676 - accuracy: 0.9785 - val_loss: 0.0839 - val_accuracy: 0.9767\n",
      "Epoch 6/10\n",
      "1500/1500 [==============================] - 14s 9ms/step - loss: 0.0614 - accuracy: 0.9801 - val_loss: 0.0794 - val_accuracy: 0.9784\n",
      "Epoch 7/10\n",
      "1500/1500 [==============================] - 14s 9ms/step - loss: 0.0524 - accuracy: 0.9833 - val_loss: 0.0896 - val_accuracy: 0.9767\n",
      "INFO:tensorflow:Assets written to: /tmp/tmpq1klp__2/model/data/model/assets\n",
      "313/313 [==============================] - 1s 2ms/step - loss: 0.0784 - accuracy: 0.9785\n",
      "INFO:tensorflow:Assets written to: /tmp/tmp57njysdv/model/data/model/assets\n"
     ]
    }
   ],
   "source": [
    "# 訓練模型，使用validation dataset當作early stop的依據\n",
    "with mlflow.start_run() as run:\n",
    "    mlflow.set_tag(\"model_type\", \"v2\")\n",
    "    \n",
    "    history = model.fit(x_train, y_train, batch_size=batch_size, epochs=epochs,\n",
    "                        validation_data=(x_val, y_val), callbacks=[tf.keras.callbacks.EarlyStopping(patience=3)])\n",
    "    \n",
    "    # 使用mlflow紀錄模型metrics\n",
    "    mlflow.log_metric(\"accuracy\", history.history[\"accuracy\"][-1])\n",
    "    mlflow.log_metric(\"val_accuracy\", history.history[\"val_accuracy\"][-1])\n",
    "    \n",
    "    # 評估模型準確度\n",
    "    test_loss, test_accuracy = model.evaluate(x_test, y_test)\n",
    "    mlflow.log_metric(\"test_loss\", test_loss)\n",
    "    mlflow.log_metric(\"test_accuracy\", test_accuracy)\n",
    "    \n",
    "    # 使用mlflow紀錄模型\n",
    "    mlflow.keras.log_model(model, \"model\")\n"
   ]
  }
 ],
 "metadata": {
  "kernelspec": {
   "display_name": "Python 3",
   "language": "python",
   "name": "python3"
  },
  "language_info": {
   "codemirror_mode": {
    "name": "ipython",
    "version": 3
   },
   "file_extension": ".py",
   "mimetype": "text/x-python",
   "name": "python",
   "nbconvert_exporter": "python",
   "pygments_lexer": "ipython3",
   "version": "3.7.10"
  }
 },
 "nbformat": 4,
 "nbformat_minor": 5
}
