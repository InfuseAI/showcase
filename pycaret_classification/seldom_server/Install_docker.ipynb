{
 "cells": [
  {
   "cell_type": "markdown",
   "id": "1f3a5009",
   "metadata": {},
   "source": [
    "# The process to install docker service."
   ]
  },
  {
   "cell_type": "code",
   "execution_count": 1,
   "id": "c6097fb9",
   "metadata": {},
   "outputs": [
    {
     "name": "stdout",
     "output_type": "stream",
     "text": [
      "/bin/bash: docker: command not found\n"
     ]
    }
   ],
   "source": [
    "## Check docker service is not found.\n",
    "!docker"
   ]
  },
  {
   "cell_type": "code",
   "execution_count": 2,
   "id": "3623f275",
   "metadata": {},
   "outputs": [],
   "source": [
    "# Curl docker shell file.\n",
    "!curl -fsSL https://get.docker.com -o get-docker.sh"
   ]
  },
  {
   "cell_type": "code",
   "execution_count": 3,
   "id": "dfe31601",
   "metadata": {},
   "outputs": [
    {
     "name": "stdout",
     "output_type": "stream",
     "text": [
      "# Executing docker install script, commit: 93d2499759296ac1f9c510605fef85052a2c32be\n",
      "+ sh -c apt-get update -qq >/dev/null\n",
      "+ sh -c DEBIAN_FRONTEND=noninteractive apt-get install -y -qq apt-transport-https ca-certificates curl gnupg >/dev/null\n",
      "debconf: delaying package configuration, since apt-utils is not installed\n",
      "+ sh -c curl -fsSL \"https://download.docker.com/linux/ubuntu/gpg\" | gpg --dearmor --yes -o /usr/share/keyrings/docker-archive-keyring.gpg\n",
      "+ sh -c echo \"deb [arch=amd64 signed-by=/usr/share/keyrings/docker-archive-keyring.gpg] https://download.docker.com/linux/ubuntu bionic stable\" > /etc/apt/sources.list.d/docker.list\n",
      "+ sh -c apt-get update -qq >/dev/null\n",
      "+ sh -c DEBIAN_FRONTEND=noninteractive apt-get install -y -qq --no-install-recommends  docker-ce-cli docker-scan-plugin docker-ce >/dev/null\n",
      "debconf: delaying package configuration, since apt-utils is not installed\n",
      "+ version_gte 20.10\n",
      "+ [ -z  ]\n",
      "+ return 0\n",
      "+ sh -c DEBIAN_FRONTEND=noninteractive apt-get install -y -qq docker-ce-rootless-extras >/dev/null\n",
      "debconf: delaying package configuration, since apt-utils is not installed\n",
      "\n",
      "================================================================================\n",
      "\n",
      "To run Docker as a non-privileged user, consider setting up the\n",
      "Docker daemon in rootless mode for your user:\n",
      "\n",
      "    dockerd-rootless-setuptool.sh install\n",
      "\n",
      "Visit https://docs.docker.com/go/rootless/ to learn about rootless mode.\n",
      "\n",
      "\n",
      "To run the Docker daemon as a fully privileged service, but granting non-root\n",
      "users access, refer to https://docs.docker.com/go/daemon-access/\n",
      "\n",
      "WARNING: Access to the remote API on a privileged Docker daemon is equivalent\n",
      "         to root access on the host. Refer to the 'Docker daemon attack surface'\n",
      "         documentation for details: https://docs.docker.com/go/attack-surface/\n",
      "\n",
      "================================================================================\n",
      "\n"
     ]
    }
   ],
   "source": [
    "# Install docker service.\n",
    "!sudo sh get-docker.sh"
   ]
  },
  {
   "cell_type": "code",
   "execution_count": 7,
   "id": "a5646512",
   "metadata": {},
   "outputs": [
    {
     "name": "stdout",
     "output_type": "stream",
     "text": [
      "Docker version 20.10.8, build 3967b7d\n"
     ]
    }
   ],
   "source": [
    "## Check docker service is successfully installed.\n",
    "!docker --version"
   ]
  }
 ],
 "metadata": {
  "kernelspec": {
   "display_name": "Python 3",
   "language": "python",
   "name": "python3"
  },
  "language_info": {
   "codemirror_mode": {
    "name": "ipython",
    "version": 3
   },
   "file_extension": ".py",
   "mimetype": "text/x-python",
   "name": "python",
   "nbconvert_exporter": "python",
   "pygments_lexer": "ipython3",
   "version": "3.7.10"
  }
 },
 "nbformat": 4,
 "nbformat_minor": 5
}
